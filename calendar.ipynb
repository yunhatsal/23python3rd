{
  "nbformat": 4,
  "nbformat_minor": 0,
  "metadata": {
    "colab": {
      "provenance": [],
      "authorship_tag": "ABX9TyM3Q7NO0/ZYWjetMHBrvrXS",
      "include_colab_link": true
    },
    "kernelspec": {
      "name": "python3",
      "display_name": "Python 3"
    },
    "language_info": {
      "name": "python"
    }
  },
  "cells": [
    {
      "cell_type": "markdown",
      "metadata": {
        "id": "view-in-github",
        "colab_type": "text"
      },
      "source": [
        "<a href=\"https://colab.research.google.com/github/yunhatsal/23python3rd/blob/main/calendar.ipynb\" target=\"_parent\"><img src=\"https://colab.research.google.com/assets/colab-badge.svg\" alt=\"Open In Colab\"/></a>"
      ]
    },
    {
      "cell_type": "code",
      "execution_count": 1,
      "metadata": {
        "colab": {
          "base_uri": "https://localhost:8080/"
        },
        "id": "PQ0LqjPmY7s1",
        "outputId": "cbab80b9-6942-488c-84ef-6aeeec65b802"
      },
      "outputs": [
        {
          "output_type": "stream",
          "name": "stdout",
          "text": [
            "    October 2023\n",
            "Mo Tu We Th Fr Sa Su\n",
            "                   1\n",
            " 2  3  4  5  6  7  8\n",
            " 9 10 11 12 13 14 15\n",
            "16 17 18 19 20 21 22\n",
            "23 24 25 26 27 28 29\n",
            "30 31\n",
            "\n"
          ]
        }
      ],
      "source": [
        "import calendar\n",
        "yy = 2023   #Year\n",
        "mm = 10     #month\n",
        "print(calendar.month(yy,mm))"
      ]
    },
    {
      "cell_type": "markdown",
      "source": [
        "#오늘의 todo list를 출력해라\n",
        "print(\"2023년 10월 19일 To Do List\")\n",
        "\n"
      ],
      "metadata": {
        "id": "Ku6PgopJcI8q"
      }
    },
    {
      "cell_type": "code",
      "source": [
        "#오늘의 todo list를 출력해라\n",
        "print(\"2023년 10월 19일 To Do List\")\n",
        "print(\"09:10~11:00 컴퓨팅적사고와 기초코딩\")\n",
        "print(\"11:10~12:00 아동건강교육\")\n",
        "print(\"12:00~14:00 점심\")\n",
        "print(\"14:00~16:00 휴식 및 공부\")\n",
        "print(\"16:00~15:30 하교\")\n",
        "print(\"18:00~19:00 저녁\")\n",
        "print(\"19:30~23:00 공부\")\n",
        "print(\"23:00~24:00 휴식\")\n",
        "print(\"24:00~ 취침\")\n",
        "\n"
      ],
      "metadata": {
        "colab": {
          "base_uri": "https://localhost:8080/"
        },
        "id": "oDn0YOxHdZXU",
        "outputId": "bae718fa-398f-424a-f220-7291bab77c97"
      },
      "execution_count": 12,
      "outputs": [
        {
          "output_type": "stream",
          "name": "stdout",
          "text": [
            "2023년 10월 19일 To Do List\n",
            "09:10~11:00 컴퓨팅적사고와 기초코딩\n",
            "11:10~12:00 아동건강교육\n",
            "12:00~14:00 점심\n",
            "14:00~16:00 휴식 및 공부\n",
            "16:00~15:30 하교\n",
            "18:00~19:00 저녁\n",
            "19:30~23:00 공부\n",
            "23:00~24:00 휴식\n",
            "24:00~ 취침\n"
          ]
        }
      ]
    },
    {
      "cell_type": "code",
      "source": [
        "\"\"\"\""
      ],
      "metadata": {
        "id": "SYJwiYI0deGr"
      },
      "execution_count": null,
      "outputs": []
    }
  ]
}