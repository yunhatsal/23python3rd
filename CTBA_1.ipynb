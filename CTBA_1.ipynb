{
  "nbformat": 4,
  "nbformat_minor": 0,
  "metadata": {
    "colab": {
      "provenance": [],
      "authorship_tag": "ABX9TyOWPU3KlDJk/Fy4ml10XqJ0",
      "include_colab_link": true
    },
    "kernelspec": {
      "name": "python3",
      "display_name": "Python 3"
    },
    "language_info": {
      "name": "python"
    }
  },
  "cells": [
    {
      "cell_type": "markdown",
      "metadata": {
        "id": "view-in-github",
        "colab_type": "text"
      },
      "source": [
        "<a href=\"https://colab.research.google.com/github/yunhatsal/23python3rd/blob/main/CTBA_1.ipynb\" target=\"_parent\"><img src=\"https://colab.research.google.com/assets/colab-badge.svg\" alt=\"Open In Colab\"/></a>"
      ]
    },
    {
      "cell_type": "markdown",
      "source": [
        "1. 쇼핑몰의 배송료를 계산하는 코드작성\n",
        "- 사용하는 변수 : price, shipping_cost"
      ],
      "metadata": {
        "id": "c9_4-YHMbMSB"
      }
    },
    {
      "cell_type": "code",
      "source": [
        "print(\"상품의 가격을 입력하시오.\");\n",
        "price = int(input(\"구입금액 입력: \"));\n",
        "if price  > 20000:\n",
        "  shipping_cost = 0\n",
        "  print(f'구입금액이 2만원 이상입니다.')\n",
        "else:\n",
        "  shipping_cost = 3000\n",
        "  print(f'구입금액이 2만원 이하입니다.')\n",
        "print(f'회원님의 배송비는 {shipping_cost}원 입니다.')"
      ],
      "metadata": {
        "colab": {
          "base_uri": "https://localhost:8080/"
        },
        "id": "GlwIwJhTcxiF",
        "outputId": "541be55b-c68f-4df9-95a1-c4f3dee8ed91"
      },
      "execution_count": 1,
      "outputs": [
        {
          "output_type": "stream",
          "name": "stdout",
          "text": [
            "상품의 가격을 입력하시오.\n",
            "구입금액 입력: 19900\n",
            "구입금액이 2만원 이하입니다.\n",
            "회원님의 배송비는 3000원 입니다.\n"
          ]
        }
      ]
    },
    {
      "cell_type": "markdown",
      "source": [
        "2. 학생으로부터 성적을 입력받아 합격유무를 출력하는 코드\n",
        "- 사용변수 : grade"
      ],
      "metadata": {
        "id": "_MIEX06Xgq-K"
      }
    },
    {
      "cell_type": "code",
      "source": [
        "print(\"성적을 입력하시오.\")\n",
        "grade = int(input(\"성적입력: \"))\n",
        "if grade >= 70:\n",
        "  print(f'70점 이상이므로 합격입니다.')\n",
        "  print(\"축하합니다. 합격입니다.\")\n",
        "else:\n",
        "  print(f'70점 이하이므로 불합격입니다.')\n",
        "  print(\"아쉽군요. 다시 한번 도전하세요.\")\n"
      ],
      "metadata": {
        "colab": {
          "base_uri": "https://localhost:8080/"
        },
        "id": "nHh39VGxhADl",
        "outputId": "df1b71cb-9f83-480e-aa93-73eececea2fb"
      },
      "execution_count": 3,
      "outputs": [
        {
          "output_type": "stream",
          "name": "stdout",
          "text": [
            "성적을 입력하시오.\n",
            "성적입력: 60\n",
            "70점 이하이므로 불합격입니다.\n",
            "아쉽군요. 다시 한번 도전하세요.\n"
          ]
        }
      ]
    },
    {
      "cell_type": "markdown",
      "source": [
        "3. 근무시간에 따라 초과근무와 정상근무를 판별하는 코드\n",
        "- work_hour\n",
        "- 연산코드 work_hour > 72"
      ],
      "metadata": {
        "id": "g-eBxp9ahwWR"
      }
    },
    {
      "cell_type": "code",
      "source": [
        "print(\"근무시간을 입력하시오.\")\n",
        "work_hour = int(input(\"근무시간 입력: \"))\n",
        "if work_hour > 72:\n",
        "  print(\"￣\"*9)\n",
        "  print(f'｜ 초과근무입니다.｜')\n",
        "  print(\"―\"*9)\n",
        "else:\n",
        "  print(\"￣\"*9)\n",
        "  print(f'｜ 정상근무입니다.｜')\n",
        "  print(\"―\"*9)"
      ],
      "metadata": {
        "colab": {
          "base_uri": "https://localhost:8080/"
        },
        "id": "komaMC_Ih-dx",
        "outputId": "359d954e-1fe8-4137-822d-81984422cd26"
      },
      "execution_count": 10,
      "outputs": [
        {
          "output_type": "stream",
          "name": "stdout",
          "text": [
            "근무시간을 입력하시오.\n",
            "근무시간 입력: 75\n",
            "￣￣￣￣￣￣￣￣￣\n",
            "｜ 초과근무입니다.｜\n",
            "―――――――――\n"
          ]
        }
      ]
    },
    {
      "cell_type": "markdown",
      "source": [
        "4. 짝수와 홀수를 판별하는 코드\n",
        "- 사용변수 : _ num _\n",
        "- 수식 : (_ num _ % 2) !=0:"
      ],
      "metadata": {
        "id": "rfNFvxuwl9ul"
      }
    },
    {
      "cell_type": "code",
      "source": [
        "print(\"정수를 입력하시오.\")\n",
        "_num_ = int(input(\"정수 입력: \"))\n",
        "if (_num_ % 2) !=0:\n",
        "  print(f'입력하신 {_num_}은 홀수입니다.')\n",
        "else:\n",
        "  print(f'입력하신 {_num_}은 짝수입니다.')"
      ],
      "metadata": {
        "colab": {
          "base_uri": "https://localhost:8080/"
        },
        "id": "J2-MSVn4mZA2",
        "outputId": "61535162-e692-4e64-b6e8-3f0b9a0216a6"
      },
      "execution_count": 12,
      "outputs": [
        {
          "output_type": "stream",
          "name": "stdout",
          "text": [
            "정수를 입력하시오.\n",
            "정수 입력: 8\n",
            "입력하신 8은 짝수입니다.\n"
          ]
        }
      ]
    },
    {
      "cell_type": "markdown",
      "source": [
        "5. 사용자의 이름과 나이를 물어보고, 답변하는 코드\n",
        "- 사용변수 : name, age\n",
        "- 출력할 내용 :\n",
        "  - 성명\n",
        "  - 나이 : 20\n",
        "  - (1)20이하 : 프로그래밍을 배우는 최적의 나이입니다.\n",
        "  - (2)20이상 : 아직도 늦지 않았습니다."
      ],
      "metadata": {
        "id": "moy7oMMOnHVX"
      }
    },
    {
      "cell_type": "code",
      "source": [
        "print(\"당신의 이름과 나이를 입력하시오.\")\n",
        "name = input(\"이름: \")\n",
        "age = int(input(\"나이: \"))\n",
        "if age > 20:\n",
        "  print(f'아직도 늦지 않았습니다.')\n",
        "else:\n",
        "  print(f'프로그래밍을 배우는 최적의 나이입니다.')\n",
        "\n"
      ],
      "metadata": {
        "colab": {
          "base_uri": "https://localhost:8080/"
        },
        "id": "vS_K7JWRn35M",
        "outputId": "b0664a8a-e929-4227-979f-20013015a029"
      },
      "execution_count": 14,
      "outputs": [
        {
          "output_type": "stream",
          "name": "stdout",
          "text": [
            "당신의 이름과 나이를 입력하시오.\n",
            "이름: 윤햇살\n",
            "나이: 20\n",
            "프로그래밍을 배우는 최적의 나이입니다.\n"
          ]
        }
      ]
    }
  ]
}